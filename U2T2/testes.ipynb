{
  "nbformat": 4,
  "nbformat_minor": 0,
  "metadata": {
    "colab": {
      "provenance": []
    },
    "kernelspec": {
      "name": "python3",
      "display_name": "Python 3"
    },
    "language_info": {
      "name": "python"
    }
  },
  "cells": [
    {
      "cell_type": "code",
      "source": [
        "# Instalar pytest no Google Colab\n",
        "!pip install pytest pytest-sugar\n",
        "\n",
        "# Importando bibliotecas necessárias\n",
        "import time\n",
        "import random\n",
        "import pytest\n",
        "from scipy import stats\n",
        "\n",
        "# Função simulada para o solver_closest\n",
        "def solver_closest(input_data):\n",
        "    # Simulação do algoritmo, exemplo de ordenação\n",
        "    return min(input_data)\n",
        "\n",
        "# Função simulada para o solver_kth_largest\n",
        "def solver_kth_largest(input_data, k):\n",
        "    # Simulação do algoritmo, exemplo de ordenação\n",
        "    input_data.sort(reverse=True)\n",
        "    return input_data[k-1]\n",
        "\n",
        "# Teste do algoritmo solver_closest\n",
        "def test_solver_closest():\n",
        "    sizes = [10, 100, 1000, 10000, 100000]  # Tamanhos dos vetores de entrada\n",
        "    for size in sizes:\n",
        "        input_data = [random.randint(1, 1000) for _ in range(size)]  # Gerar dados de entrada aleatórios\n",
        "        start_time = time.time()\n",
        "        solver_closest(input_data)  # Chamar a função solver_closest com o vetor de entrada\n",
        "        elapsed_time = time.time() - start_time  # Tempo de execução\n",
        "        print(f\"Tempo de execução para solver_closest com tamanho {size}: {elapsed_time:.6f} segundos\")\n",
        "\n",
        "# Teste do algoritmo solver_kth_largest\n",
        "def test_solver_kth_largest():\n",
        "    sizes = [10, 100, 1000, 10000, 100000]  # Tamanhos dos vetores de entrada\n",
        "    for size in sizes:\n",
        "        input_data = [random.randint(1, 1000) for _ in range(size)]  # Gerar dados de entrada aleatórios\n",
        "        k = random.randint(1, size)  # Valor de k aleatório\n",
        "        start_time = time.time()\n",
        "        solver_kth_largest(input_data, k)  # Chamar a função solver_kth_largest\n",
        "        elapsed_time = time.time() - start_time  # Tempo de execução\n",
        "        print(f\"Tempo de execução para solver_kth_largest com tamanho {size} e k={k}: {elapsed_time:.6f} segundos\")\n",
        "\n",
        "# Executando os testes diretamente\n",
        "test_solver_closest()\n",
        "test_solver_kth_largest()\n",
        "\n"
      ],
      "metadata": {
        "colab": {
          "base_uri": "https://localhost:8080/"
        },
        "id": "-xiwZx_I9oZ2",
        "outputId": "e4e4381f-1edf-48bc-873f-5b803445b535"
      },
      "execution_count": null,
      "outputs": [
        {
          "output_type": "stream",
          "name": "stdout",
          "text": [
            "Requirement already satisfied: pytest in /usr/local/lib/python3.10/dist-packages (8.3.4)\n",
            "Requirement already satisfied: pytest-sugar in /usr/local/lib/python3.10/dist-packages (1.0.0)\n",
            "Requirement already satisfied: exceptiongroup>=1.0.0rc8 in /usr/local/lib/python3.10/dist-packages (from pytest) (1.2.2)\n",
            "Requirement already satisfied: iniconfig in /usr/local/lib/python3.10/dist-packages (from pytest) (2.0.0)\n",
            "Requirement already satisfied: packaging in /usr/local/lib/python3.10/dist-packages (from pytest) (24.2)\n",
            "Requirement already satisfied: pluggy<2,>=1.5 in /usr/local/lib/python3.10/dist-packages (from pytest) (1.5.0)\n",
            "Requirement already satisfied: tomli>=1 in /usr/local/lib/python3.10/dist-packages (from pytest) (2.2.1)\n",
            "Requirement already satisfied: termcolor>=2.1.0 in /usr/local/lib/python3.10/dist-packages (from pytest-sugar) (2.5.0)\n",
            "Tempo de execução para solver_closest com tamanho 10: 0.000002 segundos\n",
            "Tempo de execução para solver_closest com tamanho 100: 0.000005 segundos\n",
            "Tempo de execução para solver_closest com tamanho 1000: 0.000033 segundos\n",
            "Tempo de execução para solver_closest com tamanho 10000: 0.000326 segundos\n",
            "Tempo de execução para solver_closest com tamanho 100000: 0.003098 segundos\n",
            "Tempo de execução para solver_kth_largest com tamanho 10 e k=5: 0.000006 segundos\n",
            "Tempo de execução para solver_kth_largest com tamanho 100 e k=89: 0.000018 segundos\n",
            "Tempo de execução para solver_kth_largest com tamanho 1000 e k=428: 0.000186 segundos\n",
            "Tempo de execução para solver_kth_largest com tamanho 10000 e k=8058: 0.002428 segundos\n",
            "Tempo de execução para solver_kth_largest com tamanho 100000 e k=99813: 0.030387 segundos\n"
          ]
        }
      ]
    }
  ]
}